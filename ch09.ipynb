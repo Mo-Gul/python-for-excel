{
 "cells": [
  {
   "cell_type": "markdown",
   "source": [
    "# Excel Automation"
   ],
   "metadata": {}
  },
  {
   "cell_type": "markdown",
   "source": [
    "# Getting Started with xlwings"
   ],
   "metadata": {}
  },
  {
   "cell_type": "markdown",
   "source": [
    "## Using Excel as Data Viewer"
   ],
   "metadata": {}
  },
  {
   "cell_type": "code",
   "execution_count": null,
   "source": [
    "# First, let's import the packages that we'll use in this chapter\r\n",
    "import datetime as dt\r\n",
    "import xlwings as xw\r\n",
    "import pandas as pd\r\n",
    "import numpy as np"
   ],
   "outputs": [],
   "metadata": {}
  },
  {
   "cell_type": "code",
   "execution_count": null,
   "source": [
    "# Let's create a DataFrame based on pseudorandom numbers and\r\n",
    "# with enough rows that only the head and tail are shown\r\n",
    "df = pd.DataFrame(data=np.random.randn(100, 5),\r\n",
    "                  columns=[f\"Trial {i}\" for i in range(1, 6)])\r\n",
    "df"
   ],
   "outputs": [],
   "metadata": {}
  },
  {
   "cell_type": "code",
   "execution_count": null,
   "source": [
    "# View the DataFrame in Excel\r\n",
    "xw.view(df)"
   ],
   "outputs": [],
   "metadata": {}
  },
  {
   "cell_type": "markdown",
   "source": [
    "## The Excel Object Model"
   ],
   "metadata": {}
  },
  {
   "cell_type": "code",
   "execution_count": null,
   "source": [
    "# Create a new empty workbook and print its name. This is the\r\n",
    "# book we will use to run most of the code samples in this chapter.\r\n",
    "book = xw.Book()\r\n",
    "book.name"
   ],
   "outputs": [],
   "metadata": {}
  },
  {
   "cell_type": "code",
   "execution_count": null,
   "source": [
    "# Accessing the sheets collection\r\n",
    "book.sheets"
   ],
   "outputs": [],
   "metadata": {}
  },
  {
   "cell_type": "code",
   "execution_count": null,
   "source": [
    "# Get a sheet object by index or name. You will need to adjust\r\n",
    "# \"Sheet1\" if your sheet is called differently.\r\n",
    "# (--> changed from \"Sheet1\" to \"Tabelle1\")\r\n",
    "sheet1 = book.sheets[0]\r\n",
    "sheet1 = book.sheets[\"Tabelle1\"]"
   ],
   "outputs": [],
   "metadata": {}
  },
  {
   "cell_type": "code",
   "execution_count": null,
   "source": [
    "sheet1.range(\"A1\")"
   ],
   "outputs": [],
   "metadata": {}
  },
  {
   "cell_type": "code",
   "execution_count": null,
   "source": [
    "# Most common tasks: write values...\r\n",
    "sheet1.range(\"A1\").value = [[1, 2],\r\n",
    "                            [3, 4]]\r\n",
    "sheet1.range(\"A4\").value = \"Hello!\""
   ],
   "outputs": [],
   "metadata": {}
  },
  {
   "cell_type": "code",
   "execution_count": null,
   "source": [
    "# ... and read values\r\n",
    "sheet1.range(\"A1:B2\").value"
   ],
   "outputs": [],
   "metadata": {}
  },
  {
   "cell_type": "code",
   "execution_count": null,
   "source": [
    "sheet1.range(\"A4\").value"
   ],
   "outputs": [],
   "metadata": {}
  },
  {
   "cell_type": "code",
   "execution_count": null,
   "source": [
    "# Indexing\r\n",
    "sheet1.range(\"A1:B2\")[0, 0]"
   ],
   "outputs": [],
   "metadata": {}
  },
  {
   "cell_type": "code",
   "execution_count": null,
   "source": [
    "# Slicing\r\n",
    "sheet1.range(\"A1:B2\")[:, 1]"
   ],
   "outputs": [],
   "metadata": {}
  },
  {
   "cell_type": "code",
   "execution_count": null,
   "source": [
    "# Single cell: A1 notation\r\n",
    "sheet1[\"A1\"]"
   ],
   "outputs": [],
   "metadata": {}
  },
  {
   "cell_type": "code",
   "execution_count": null,
   "source": [
    "# Multiple cells: A1 notation\r\n",
    "sheet1[\"A1:B2\"]"
   ],
   "outputs": [],
   "metadata": {}
  },
  {
   "cell_type": "code",
   "execution_count": null,
   "source": [
    "# Single cell: indexing\r\n",
    "sheet1[0, 0]"
   ],
   "outputs": [],
   "metadata": {}
  },
  {
   "cell_type": "code",
   "execution_count": null,
   "source": [
    "# Multiple cells: slicing\r\n",
    "sheet1[:2, :2]"
   ],
   "outputs": [],
   "metadata": {}
  },
  {
   "cell_type": "code",
   "execution_count": null,
   "source": [
    "# D10 via sheet indexing\r\n",
    "sheet1[9, 3]"
   ],
   "outputs": [],
   "metadata": {}
  },
  {
   "cell_type": "code",
   "execution_count": null,
   "source": [
    "# D10 via range object\r\n",
    "sheet1.range((10, 4))"
   ],
   "outputs": [],
   "metadata": {}
  },
  {
   "cell_type": "code",
   "execution_count": null,
   "source": [
    "# D10:F11 via sheet slicing\r\n",
    "sheet1[9:11, 3:6]"
   ],
   "outputs": [],
   "metadata": {}
  },
  {
   "cell_type": "code",
   "execution_count": null,
   "source": [
    "# D10:F11 via range object\r\n",
    "sheet1.range((10, 4), (11, 6))"
   ],
   "outputs": [],
   "metadata": {}
  },
  {
   "cell_type": "code",
   "execution_count": null,
   "source": [
    "sheet1[\"A1\"].sheet.book.app"
   ],
   "outputs": [],
   "metadata": {}
  },
  {
   "cell_type": "code",
   "execution_count": null,
   "source": [
    "# Get one app object from the open workbook\r\n",
    "# and create an additional invisible app instance\r\n",
    "visible_app = sheet1.book.app\r\n",
    "invisible_app = xw.App(visible=False)"
   ],
   "outputs": [],
   "metadata": {}
  },
  {
   "cell_type": "code",
   "execution_count": null,
   "source": [
    "# List the book names that are open in each instance\r\n",
    "# by using a list comprehension\r\n",
    "[book.name for book in visible_app.books]"
   ],
   "outputs": [],
   "metadata": {}
  },
  {
   "cell_type": "code",
   "execution_count": null,
   "source": [
    "[book.name for book in invisible_app.books]"
   ],
   "outputs": [],
   "metadata": {}
  },
  {
   "cell_type": "code",
   "execution_count": null,
   "source": [
    "# An app key represents the process ID (PID)\r\n",
    "xw.apps.keys()"
   ],
   "outputs": [],
   "metadata": {}
  },
  {
   "cell_type": "code",
   "execution_count": null,
   "source": [
    "# It can also be accessed via the pid attribute\r\n",
    "xw.apps.active.pid"
   ],
   "outputs": [],
   "metadata": {}
  },
  {
   "cell_type": "code",
   "execution_count": null,
   "source": [
    "# Work with the book in the invisible Excel instance\r\n",
    "invisible_book = invisible_app.books[0]\r\n",
    "invisible_book.sheets[0][\"A1\"].value = \"Created by an invisible app.\""
   ],
   "outputs": [],
   "metadata": {}
  },
  {
   "cell_type": "code",
   "execution_count": null,
   "source": [
    "# Save the Excel workbook in the xl directory\r\n",
    "invisible_book.save(\"xl/invisible.xlsx\")"
   ],
   "outputs": [],
   "metadata": {}
  },
  {
   "cell_type": "code",
   "execution_count": null,
   "source": [
    "# Quit the invisible Excel instance\r\n",
    "invisible_app.quit()"
   ],
   "outputs": [],
   "metadata": {}
  },
  {
   "cell_type": "markdown",
   "source": [
    "## Running VBA Code"
   ],
   "metadata": {}
  },
  {
   "cell_type": "code",
   "execution_count": null,
   "source": [
    "vba_book = xw.Book(\"xl/vba.xlsm\")"
   ],
   "outputs": [],
   "metadata": {}
  },
  {
   "cell_type": "code",
   "execution_count": null,
   "source": [
    "# Instantiate a macro object with the VBA function\r\n",
    "mysum = vba_book.macro(\"Module1.MySum\")\r\n",
    "# Call a VBA function\r\n",
    "mysum(5, 4)"
   ],
   "outputs": [],
   "metadata": {}
  },
  {
   "cell_type": "code",
   "execution_count": null,
   "source": [
    "# It works the same with a VBA Sub procedure\r\n",
    "show_msgbox = vba_book.macro(\"Module1.ShowMsgBox\")\r\n",
    "show_msgbox(\"Hello xlwings!\")"
   ],
   "outputs": [],
   "metadata": {}
  },
  {
   "cell_type": "code",
   "execution_count": null,
   "source": [
    "# Close the book again (make sure to close the MessageBox first)\r\n",
    "vba_book.close()"
   ],
   "outputs": [],
   "metadata": {}
  },
  {
   "cell_type": "markdown",
   "source": [
    "# Converters, Options and Collections"
   ],
   "metadata": {}
  },
  {
   "cell_type": "markdown",
   "source": [
    "## Working with DataFrames"
   ],
   "metadata": {}
  },
  {
   "cell_type": "code",
   "execution_count": null,
   "source": [
    "data=[[\"Mark\", 55, \"Italy\", 4.5, \"Europe\"],\r\n",
    "      [\"John\", 33, \"USA\", 6.7, \"America\"]]\r\n",
    "df = pd.DataFrame(data=data,\r\n",
    "                  columns=[\"name\", \"age\", \"country\",\r\n",
    "                           \"score\", \"continent\"],\r\n",
    "                  index=[1001, 1000])\r\n",
    "df.index.name = \"user_id\"\r\n",
    "df"
   ],
   "outputs": [],
   "metadata": {}
  },
  {
   "cell_type": "code",
   "execution_count": null,
   "source": [
    "sheet1[\"A6\"].value = df"
   ],
   "outputs": [],
   "metadata": {}
  },
  {
   "cell_type": "code",
   "execution_count": null,
   "source": [
    "sheet1[\"B10\"].options(header=False, index=False).value = df"
   ],
   "outputs": [],
   "metadata": {}
  },
  {
   "cell_type": "code",
   "execution_count": null,
   "source": [
    "df2 = sheet1[\"A6\"].expand().options(pd.DataFrame).value\r\n",
    "df2"
   ],
   "outputs": [],
   "metadata": {}
  },
  {
   "cell_type": "code",
   "execution_count": null,
   "source": [
    "# If you want the index to be an integer index,\r\n",
    "# you can change its data type\r\n",
    "df2.index = df2.index.astype(int)\r\n",
    "df2"
   ],
   "outputs": [],
   "metadata": {}
  },
  {
   "cell_type": "code",
   "execution_count": null,
   "source": [
    "# By setting index=False, it will put all the values from Excel into\r\n",
    "# the data part of the DataFrame and will use the default index\r\n",
    "sheet1[\"A6\"].expand().options(pd.DataFrame, index=False).value"
   ],
   "outputs": [],
   "metadata": {}
  },
  {
   "cell_type": "markdown",
   "source": [
    "## Converters and Options"
   ],
   "metadata": {}
  },
  {
   "cell_type": "code",
   "execution_count": null,
   "source": [
    "# Horizontal range (one-dimensional)\r\n",
    "sheet1[\"A1:B1\"].value"
   ],
   "outputs": [],
   "metadata": {}
  },
  {
   "cell_type": "code",
   "execution_count": null,
   "source": [
    "# Vertical range (one-dimensional)\r\n",
    "sheet1[\"A1:A2\"].value"
   ],
   "outputs": [],
   "metadata": {}
  },
  {
   "cell_type": "code",
   "execution_count": null,
   "source": [
    "# Horizontal range (two-dimensional)\r\n",
    "sheet1[\"A1:B1\"].options(ndim=2).value"
   ],
   "outputs": [],
   "metadata": {}
  },
  {
   "cell_type": "code",
   "execution_count": null,
   "source": [
    "# Vertical range (two-dimensional)\r\n",
    "sheet1[\"A1:A2\"].options(ndim=2).value"
   ],
   "outputs": [],
   "metadata": {}
  },
  {
   "cell_type": "code",
   "execution_count": null,
   "source": [
    "# Using the NumPy array converter behaves the same:\r\n",
    "# vertical range leads to a one-dimensional array\r\n",
    "sheet1[\"A1:A2\"].options(np.array).value"
   ],
   "outputs": [],
   "metadata": {}
  },
  {
   "cell_type": "code",
   "execution_count": null,
   "source": [
    "# Preserving the column orientation\r\n",
    "sheet1[\"A1:A2\"].options(np.array, ndim=2).value"
   ],
   "outputs": [],
   "metadata": {}
  },
  {
   "cell_type": "code",
   "execution_count": null,
   "source": [
    "# If you need to write out a list vertically,\r\n",
    "# the \"transpose\" option comes in handy\r\n",
    "sheet1[\"D1\"].options(transpose=True).value = [100, 200]"
   ],
   "outputs": [],
   "metadata": {}
  },
  {
   "cell_type": "code",
   "execution_count": null,
   "source": [
    "# Write out some sample data\r\n",
    "sheet1[\"A13\"].value = [dt.datetime(2020, 1, 1), None, 1.0]"
   ],
   "outputs": [],
   "metadata": {}
  },
  {
   "cell_type": "code",
   "execution_count": null,
   "source": [
    "# Read it back using the default options\r\n",
    "sheet1[\"A13:C13\"].value"
   ],
   "outputs": [],
   "metadata": {}
  },
  {
   "cell_type": "code",
   "execution_count": null,
   "source": [
    "# Read it back using non-default options\r\n",
    "sheet1[\"A13:C13\"].options(empty=\"NA\",\r\n",
    "                          dates=dt.date,\r\n",
    "                          numbers=int).value"
   ],
   "outputs": [],
   "metadata": {}
  },
  {
   "cell_type": "markdown",
   "source": [
    "## Charts, Pictures and Defined Names"
   ],
   "metadata": {}
  },
  {
   "cell_type": "code",
   "execution_count": null,
   "source": [
    "sheet1[\"A15\"].value = [[None, \"North\", \"South\"],\r\n",
    "                       [\"Last Year\", 2, 5],\r\n",
    "                       [\"This Year\", 3, 6]]"
   ],
   "outputs": [],
   "metadata": {}
  },
  {
   "cell_type": "code",
   "execution_count": null,
   "source": [
    "chart = sheet1.charts.add(top=sheet1[\"A19\"].top,\r\n",
    "                          left=sheet1[\"A19\"].left)\r\n",
    "chart.chart_type = \"column_clustered\"\r\n",
    "chart.set_source_data(sheet1[\"A15\"].expand())"
   ],
   "outputs": [],
   "metadata": {}
  },
  {
   "cell_type": "code",
   "execution_count": null,
   "source": [
    "# Read in the chart data as DataFrame\r\n",
    "df = sheet1[\"A15\"].expand().options(pd.DataFrame).value\r\n",
    "df"
   ],
   "outputs": [],
   "metadata": {}
  },
  {
   "cell_type": "code",
   "execution_count": null,
   "source": [
    "# Enable Matplotlib by using the notebook magic command\r\n",
    "# and switch to the \"seaborn\" style\r\n",
    "%matplotlib inline\r\n",
    "import matplotlib.pyplot as plt\r\n",
    "plt.style.use(\"seaborn\")"
   ],
   "outputs": [],
   "metadata": {}
  },
  {
   "cell_type": "code",
   "execution_count": null,
   "source": [
    "# The pandas plot method returns an \"axis\" object from \r\n",
    "# where you can get the figure. \"T\" transposes the\r\n",
    "# DataFrame to bring the plot into the desired orientation.\r\n",
    "ax = df.T.plot.bar()\r\n",
    "fig = ax.get_figure()"
   ],
   "outputs": [],
   "metadata": {}
  },
  {
   "cell_type": "code",
   "execution_count": null,
   "source": [
    "# Send the plot to Excel\r\n",
    "plot = sheet1.pictures.add(fig, name=\"SalesPlot\",\r\n",
    "                           top=sheet1[\"H19\"].top,\r\n",
    "                           left=sheet1[\"H19\"].left)\r\n",
    "# Let's scale the plot to 70%\r\n",
    "plot.width, plot.height = plot.width * 0.7, plot.height * 0.7"
   ],
   "outputs": [],
   "metadata": {}
  },
  {
   "cell_type": "code",
   "execution_count": null,
   "source": [
    "ax = (df + 1).T.plot.bar()\r\n",
    "plot = plot.update(ax.get_figure())"
   ],
   "outputs": [],
   "metadata": {}
  },
  {
   "cell_type": "code",
   "execution_count": null,
   "source": [
    "# The book scope is the default scope\r\n",
    "sheet1[\"A1:B2\"].name = \"matrix1\""
   ],
   "outputs": [],
   "metadata": {}
  },
  {
   "cell_type": "code",
   "execution_count": null,
   "source": [
    "# For the sheet scope, prepend the sheet name with\r\n",
    "# an exclamation point\r\n",
    "# (--> changed from \"Sheet1\" to \"Tabelle1\")\r\n",
    "sheet1[\"B10:E11\"].name = \"Tabelle1!matrix2\""
   ],
   "outputs": [],
   "metadata": {}
  },
  {
   "cell_type": "code",
   "execution_count": null,
   "source": [
    "# Now you can access the range by name\r\n",
    "sheet1[\"matrix1\"]"
   ],
   "outputs": [],
   "metadata": {}
  },
  {
   "cell_type": "code",
   "execution_count": null,
   "source": [
    "# If you access the names collection via the \"sheet1\" object,\r\n",
    "# it contains only names with that sheet's scope\r\n",
    "sheet1.names"
   ],
   "outputs": [],
   "metadata": {}
  },
  {
   "cell_type": "code",
   "execution_count": null,
   "source": [
    "# If you access the names collection via the \"book\" object,\r\n",
    "# it contains all names, including book and sheet scope\r\n",
    "book.names"
   ],
   "outputs": [],
   "metadata": {}
  },
  {
   "cell_type": "code",
   "execution_count": null,
   "source": [
    "# Names have various methods and attributes.\r\n",
    "# You can, for example, get the respective range object.\r\n",
    "book.names[\"matrix1\"].refers_to_range"
   ],
   "outputs": [],
   "metadata": {}
  },
  {
   "cell_type": "code",
   "execution_count": null,
   "source": [
    "# If you want to assign a name to a constant\r\n",
    "# or a formula, use the \"add\" method\r\n",
    "# (use current decimal separator --> changed from dot to comma)\r\n",
    "book.names.add(\"EURUSD\", \"=1,1151\")"
   ],
   "outputs": [],
   "metadata": {}
  },
  {
   "cell_type": "markdown",
   "source": [
    "# Advanced Topics"
   ],
   "metadata": {}
  },
  {
   "cell_type": "markdown",
   "source": [
    "## Performance"
   ],
   "metadata": {}
  },
  {
   "cell_type": "code",
   "execution_count": null,
   "source": [
    "# Add a new sheet and write 150 values\r\n",
    "# to it to have something to work with\r\n",
    "sheet2 = book.sheets.add()\r\n",
    "sheet2[\"A1\"].value = np.arange(150).reshape(30, 5)"
   ],
   "outputs": [],
   "metadata": {}
  },
  {
   "cell_type": "code",
   "execution_count": null,
   "source": [
    "%%time\r\n",
    "# This makes 150 cross-application calls\r\n",
    "for cell in sheet2[\"A1:E30\"]:\r\n",
    "    cell.value += 1"
   ],
   "outputs": [],
   "metadata": {}
  },
  {
   "cell_type": "code",
   "execution_count": null,
   "source": [
    "%%time\r\n",
    "# This makes just two cross-application calls\r\n",
    "values = sheet2[\"A1:E30\"].options(np.array).value\r\n",
    "sheet2[\"A1\"].value = values + 1"
   ],
   "outputs": [],
   "metadata": {}
  },
  {
   "cell_type": "code",
   "execution_count": null,
   "source": [
    "%%time\r\n",
    "# (There is a \"Question\" on the Errata page \r\n",
    "#     <https://www.oreilly.com/catalog/errata.csp?isbn=0636920386926&order=date>\r\n",
    "# regarding this dated 01.01.2021. Sean suggests to change the last line\r\n",
    "# which should update all values in a single cross-application call.\r\n",
    "# Unfortunately I don't know this should end up in only one call ...\r\n",
    "# At least the 'Wall time' seems to be the same, also when increasing the range to\r\n",
    "#     sheet2[\"A1\"].value = np.arange(1500000).reshape(3000, 500)\r\n",
    "# which gives the last cell 'SF3000')\r\n",
    "values = sheet2[\"A1:E30\"].options(np.array).value\r\n",
    "sheet2[\"A1:E30\"].value = values + 1"
   ],
   "outputs": [],
   "metadata": {}
  },
  {
   "cell_type": "code",
   "execution_count": null,
   "source": [
    "# With raw values, you must provide the full\r\n",
    "# target range, sheet[\"A35\"] doesn't work anymore\r\n",
    "sheet1[\"A35:B36\"].options(\"raw\").value = [[1, 2], [3, 4]]"
   ],
   "outputs": [],
   "metadata": {}
  }
 ],
 "metadata": {
  "kernelspec": {
   "name": "python3",
   "display_name": "Python 3.9.4 64-bit ('.venv')"
  },
  "language_info": {
   "codemirror_mode": {
    "name": "ipython",
    "version": 3
   },
   "file_extension": ".py",
   "mimetype": "text/x-python",
   "name": "python",
   "nbconvert_exporter": "python",
   "pygments_lexer": "ipython3",
   "version": "3.9.4"
  },
  "interpreter": {
   "hash": "09bfbdaf61327e643104b619c1449b77f7d65267c5af79e9f1a4bb345168a8b0"
  }
 },
 "nbformat": 4,
 "nbformat_minor": 4
}
